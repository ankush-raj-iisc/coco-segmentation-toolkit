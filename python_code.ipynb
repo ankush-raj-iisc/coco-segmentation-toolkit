{
  "nbformat": 4,
  "nbformat_minor": 0,
  "metadata": {
    "colab": {
      "provenance": []
    },
    "kernelspec": {
      "name": "python3",
      "display_name": "Python 3"
    },
    "language_info": {
      "name": "python"
    }
  },
  "cells": [
    {
      "cell_type": "code",
      "source": [
        "import kagglehub\n",
        "import os\n",
        "import numpy as np\n",
        "import cv2\n",
        "import json\n",
        "from pycocotools.coco import COCO\n",
        "from pycocotools import mask as maskUtils\n",
        "from tqdm import tqdm\n",
        "from PIL import Image"
      ],
      "metadata": {
        "id": "7QmzyFChC3aK"
      },
      "execution_count": 8,
      "outputs": []
    },
    {
      "cell_type": "markdown",
      "source": [
        "### 📥 Step 1: Download COCO 2017 Dataset\n",
        "\n",
        "We downloaded the dataset using KaggleHub. The dataset includes:\n",
        "- `train2017/` and `val2017/` image folders\n",
        "- `annotations/` containing segmentation metadata in JSON format\n",
        "\n",
        "The dataset path and structure were printed to verify successful setup.\n"
      ],
      "metadata": {
        "id": "Z4RODOEPI2OQ"
      }
    },
    {
      "cell_type": "code",
      "source": [
        "# Download and print actual path\n",
        "path = kagglehub.dataset_download(\"awsaf49/coco-2017-dataset\")\n",
        "print(\"✅ Dataset Path:\", path)\n",
        "\n",
        "# List contents inside it\n",
        "import os\n",
        "print(\"📁 Files:\")\n",
        "print(os.listdir(path))\n"
      ],
      "metadata": {
        "colab": {
          "base_uri": "https://localhost:8080/"
        },
        "id": "h-KrFBogDNmO",
        "outputId": "4e0e916f-ee6f-484c-d94c-36a7531d1105"
      },
      "execution_count": 5,
      "outputs": [
        {
          "output_type": "stream",
          "name": "stdout",
          "text": [
            "✅ Dataset Path: /kaggle/input/coco-2017-dataset\n",
            "📁 Files:\n",
            "['coco2017']\n"
          ]
        }
      ]
    },
    {
      "cell_type": "markdown",
      "source": [
        "### 🗂️ Step 2: Explore Dataset Structure\n",
        "\n",
        "We walked through the folder to identify:\n",
        "- Location of validation images: `val2017/`\n",
        "- Annotations: `annotations/instances_val2017.json`\n",
        "\n",
        "This helped us configure paths for further processing.\n"
      ],
      "metadata": {
        "id": "E3HO_WRCI65C"
      }
    },
    {
      "cell_type": "code",
      "source": [
        "import os\n",
        "\n",
        "base_path = \"/kaggle/input/coco-2017-dataset/coco2017\"\n",
        "\n",
        "for root, dirs, files in os.walk(base_path):\n",
        "    for file in files:\n",
        "        print(os.path.join(root, file))\n"
      ],
      "metadata": {
        "id": "LHytNziFDk01"
      },
      "execution_count": null,
      "outputs": []
    },
    {
      "cell_type": "markdown",
      "source": [
        "### 🧪 Step 3: Test Segmentation Mask Generation\n",
        "\n",
        "We tested the segmentation mask generation pipeline by processing 100 images.\n",
        "\n",
        "Each image was converted into a pixel-level mask where:\n",
        "- Each class label (category) was mapped to a unique integer\n",
        "- Masks were saved as `.png` files with the same filename as the original image\n"
      ],
      "metadata": {
        "id": "xcQwi3LzJEwg"
      }
    },
    {
      "cell_type": "code",
      "source": [
        "# Paths\n",
        "ann_path = \"/kaggle/input/coco-2017-dataset/coco2017/annotations/instances_val2017.json\"\n",
        "img_dir = \"/kaggle/input/coco-2017-dataset/coco2017/val2017\"\n",
        "output_mask_dir = \"/kaggle/working/masks\"\n",
        "os.makedirs(output_mask_dir, exist_ok=True)\n",
        "\n",
        "# Load COCO\n",
        "coco = COCO(ann_path)\n",
        "img_ids = coco.getImgIds()\n",
        "cat_ids = coco.getCatIds()\n",
        "cat_id_to_idx = {cat_id: idx + 1 for idx, cat_id in enumerate(cat_ids)}  # start from 1\n",
        "\n",
        "# Loop through images\n",
        "for img_id in tqdm(img_ids[:100]):  # you can increase this number later\n",
        "    img_info = coco.loadImgs(img_id)[0]\n",
        "    file_name = img_info['file_name']\n",
        "    width, height = img_info['width'], img_info['height']\n",
        "\n",
        "    ann_ids = coco.getAnnIds(imgIds=img_id, iscrowd=False)\n",
        "    anns = coco.loadAnns(ann_ids)\n",
        "\n",
        "    mask = np.zeros((height, width), dtype=np.uint8)\n",
        "\n",
        "    for ann in anns:\n",
        "        cat_id = ann['category_id']\n",
        "        cat_idx = cat_id_to_idx[cat_id]\n",
        "        rle = coco.annToRLE(ann)\n",
        "        ann_mask = maskUtils.decode(rle)\n",
        "        mask[ann_mask == 1] = cat_idx\n",
        "\n",
        "    # Save mask\n",
        "    mask_path = os.path.join(output_mask_dir, file_name.replace(\".jpg\", \".png\"))\n",
        "    Image.fromarray(mask).save(mask_path)"
      ],
      "metadata": {
        "colab": {
          "base_uri": "https://localhost:8080/"
        },
        "id": "HwE5CDJ3Dt_T",
        "outputId": "8dcc7ca8-3f8a-484b-fdcd-562165ae3c4b"
      },
      "execution_count": 9,
      "outputs": [
        {
          "output_type": "stream",
          "name": "stdout",
          "text": [
            "loading annotations into memory...\n",
            "Done (t=0.99s)\n",
            "creating index...\n",
            "index created!\n"
          ]
        },
        {
          "output_type": "stream",
          "name": "stderr",
          "text": [
            "100%|██████████| 100/100 [00:01<00:00, 94.40it/s]\n"
          ]
        }
      ]
    },
    {
      "cell_type": "markdown",
      "source": [
        "### ⚠️ Step 4: Edge Case Handling\n",
        "\n",
        "To ensure data quality, we handled common issues such as:\n",
        "1. Missing or null segmentation fields\n",
        "2. Zero-area annotations\n",
        "3. Overlapping masks (handled by overwrite)\n",
        "4. Invalid or unrecognized category IDs\n",
        "\n",
        "These were skipped during mask creation to avoid errors and noise.\n"
      ],
      "metadata": {
        "id": "CJPXkjNTJQ9R"
      }
    },
    {
      "cell_type": "code",
      "source": [
        "    for ann in anns:\n",
        "        if 'segmentation' not in ann or ann['segmentation'] is None:\n",
        "            continue  # Edge Case 1\n",
        "\n",
        "        if ann['area'] == 0:\n",
        "            continue  # Edge Case 2\n",
        "\n",
        "        cat_id = ann['category_id']\n",
        "        if cat_id not in cat_id_to_idx:\n",
        "            continue  # Edge Case 4\n",
        "\n",
        "        cat_idx = cat_id_to_idx[cat_id]\n",
        "        rle = coco.annToRLE(ann)\n",
        "        ann_mask = maskUtils.decode(rle)\n",
        "\n",
        "        mask[ann_mask == 1] = cat_idx  # Edge Case 3: overlaps handled\n"
      ],
      "metadata": {
        "id": "ZHmsowvaEy-h"
      },
      "execution_count": 14,
      "outputs": []
    },
    {
      "cell_type": "markdown",
      "source": [
        "### 💾 Step 5: Process Full Dataset and Save Metadata\n",
        "\n",
        "We processed 3,000 images and created corresponding segmentation masks.\n",
        "\n",
        "In addition:\n",
        "- A category-to-index map was saved in `category_mapping.json`\n",
        "- A file-to-mask mapping was saved in `image_mask_map.json`\n",
        "- All masks were saved in the `masks/` directory under the Kaggle working folder\n",
        "\n",
        "This completes Task 1 – Dataset Preparation.\n"
      ],
      "metadata": {
        "id": "cwCDCHslJYKs"
      }
    },
    {
      "cell_type": "code",
      "source": [
        "# Save category mapping\n",
        "with open(\"/kaggle/working/category_mapping.json\", \"w\") as f:\n",
        "    json.dump(cat_id_to_idx, f, indent=2)\n",
        "\n",
        "# Save image-mask mapping\n",
        "image_mask_map = {}\n",
        "\n",
        "# Process 3,000 images\n",
        "for img_id in tqdm(img_ids[:3000]):\n",
        "    img_info = coco.loadImgs(img_id)[0]\n",
        "    file_name = img_info['file_name']\n",
        "    width, height = img_info['width'], img_info['height']\n",
        "\n",
        "    ann_ids = coco.getAnnIds(imgIds=img_id, iscrowd=False)\n",
        "    anns = coco.loadAnns(ann_ids)\n",
        "\n",
        "    mask = np.zeros((height, width), dtype=np.uint8)\n",
        "\n",
        "    for ann in anns:\n",
        "        if 'segmentation' not in ann or ann['segmentation'] is None:\n",
        "            continue\n",
        "        if ann['area'] == 0:\n",
        "            continue\n",
        "        cat_id = ann['category_id']\n",
        "        if cat_id not in cat_id_to_idx:\n",
        "            continue\n",
        "\n",
        "        cat_idx = cat_id_to_idx[cat_id]\n",
        "        rle = coco.annToRLE(ann)\n",
        "        ann_mask = maskUtils.decode(rle)\n",
        "        mask[ann_mask == 1] = cat_idx\n",
        "\n",
        "    mask_filename = file_name.replace(\".jpg\", \".png\")\n",
        "    Image.fromarray(mask).save(os.path.join(output_mask_dir, mask_filename))\n",
        "    image_mask_map[file_name] = mask_filename\n",
        "\n",
        "# Save mapping file\n",
        "with open(\"/kaggle/working/image_mask_map.json\", \"w\") as f:\n",
        "    json.dump(image_mask_map, f, indent=2)\n",
        "\n",
        "print(\"✅ Step 4 complete: Saved 3000 masks, mapping files.\")"
      ],
      "metadata": {
        "colab": {
          "base_uri": "https://localhost:8080/"
        },
        "id": "kzCa73mBF7PR",
        "outputId": "c53a9763-af4b-4d7a-9322-b7a837ab8f89"
      },
      "execution_count": 12,
      "outputs": [
        {
          "output_type": "stream",
          "name": "stderr",
          "text": [
            "100%|██████████| 3000/3000 [00:31<00:00, 96.08it/s] "
          ]
        },
        {
          "output_type": "stream",
          "name": "stdout",
          "text": [
            "✅ Step 4 complete: Saved 3000 masks, mapping files.\n"
          ]
        },
        {
          "output_type": "stream",
          "name": "stderr",
          "text": [
            "\n"
          ]
        }
      ]
    },
    {
      "cell_type": "code",
      "source": [],
      "metadata": {
        "id": "9gtVDoGbHL93"
      },
      "execution_count": null,
      "outputs": []
    }
  ]
}